{
  "nbformat": 4,
  "nbformat_minor": 0,
  "metadata": {
    "colab": {
      "name": "ESA_CORINE_ECOSG.ipynb",
      "provenance": [],
      "include_colab_link": true
    },
    "kernelspec": {
      "name": "python3",
      "display_name": "Python 3"
    },
    "language_info": {
      "name": "python"
    }
  },
  "cells": [
    {
      "cell_type": "markdown",
      "metadata": {
        "id": "view-in-github",
        "colab_type": "text"
      },
      "source": [
        "<a href=\"https://colab.research.google.com/github/odhrandooley/Met-Eireann/blob/main/ESA_CORINE_ECOSG.ipynb\" target=\"_parent\"><img src=\"https://colab.research.google.com/assets/colab-badge.svg\" alt=\"Open In Colab\"/></a>"
      ]
    },
    {
      "cell_type": "markdown",
      "metadata": {
        "id": "sJ7okblLwEib"
      },
      "source": [
        "#Initialisation"
      ]
    },
    {
      "cell_type": "markdown",
      "metadata": {
        "id": "dloct9xswNEh"
      },
      "source": [
        "##Importing"
      ]
    },
    {
      "cell_type": "code",
      "metadata": {
        "id": "IWF6FxNZwJa9"
      },
      "source": [
        "from google.colab import drive\n",
        "drive.mount('/content/drive')\n",
        "\n",
        "!pip install netcdf4\n",
        "!pip install rasterio\n",
        "!pip install pyproj\n",
        "!pip install rioxarray\n",
        "\n",
        "import xarray as xr\n",
        "import rioxarray as rio\n",
        "\n",
        "import matplotlib.pyplot as plt\n",
        "import os\n",
        "import numpy as np\n",
        "\n",
        "\n",
        "from matplotlib import cm\n",
        "from matplotlib.colors import ListedColormap, LinearSegmentedColormap, ColorConverter\n",
        "from osgeo import gdal\n",
        "from pyproj import Proj, transform\n",
        "!pip install git+git://github.com/geopandas/geopandas.git\n",
        "\n",
        "import pandas as pd\n",
        "import geopandas as gpd\n",
        "\n",
        "\n",
        "import matplotlib.image as img\n",
        "import tifffile as tif\n",
        "import xml.etree.ElementTree as ET\n",
        "\n",
        "\n",
        "import rasterio\n",
        "import cv2\n",
        "from rasterio import plot\n",
        "from rasterio.plot import show\n",
        "from skimage import exposure"
      ],
      "execution_count": null,
      "outputs": []
    },
    {
      "cell_type": "markdown",
      "metadata": {
        "id": "9hIyTwZ--xis"
      },
      "source": [
        "File names"
      ]
    },
    {
      "cell_type": "code",
      "metadata": {
        "id": "1Hl2EESNwo8B"
      },
      "source": [
        "fnESACCI='/content/drive/MyDrive/ESA-CCI/C3S-LC-L4-LCCS-Map-300m-P1Y-2018-v2.1.1.nc'\n",
        "file_legend='/content/drive/MyDrive/CORINE/u2018_clc2018_v2020_20u1_raster100m/Legend/CLC2018_CLC2018_V2018_20_QGIS.txt'\n",
        "fncorine='/content/drive/MyDrive/CORINE/u2018_clc2018_v2020_20u1_raster100m/DATA/U2018_CLC2018_V2020_20u1.tif'\n",
        "fnameSG='/content/drive/MyDrive/ECOCLIMAP_SG/ecosg_final_map.dir' #ecosg filename\n",
        "covernamef='/content/drive/MyDrive/ECOCLIMAP_SG/ECOCLIMAP_SG_cover_data.csv' #file with all the cover name\n"
      ],
      "execution_count": null,
      "outputs": []
    },
    {
      "cell_type": "markdown",
      "metadata": {
        "id": "ziv6oamz--l-"
      },
      "source": [
        "Cover + colourmaps"
      ]
    },
    {
      "cell_type": "code",
      "metadata": {
        "id": "G2knR6kRwpsa"
      },
      "source": [
        "PrimeCover = ['Water','Nature','Urban','Difference']"
      ],
      "execution_count": null,
      "outputs": []
    },
    {
      "cell_type": "code",
      "metadata": {
        "id": "HeSHrdHUw2J7"
      },
      "source": [
        "c1=(0/255.0,0/255.0,128/255.0,255/255.0)##navy blue 1. Water\n",
        "c2=(50/255.0,205/255.0,50/255.0,255/255.0)##limegreen 3. nature\n",
        "c3=(138/255.0,2/255.0,0/255.0,255/255.0)## red 4 urban\n",
        "c0=(0/255.0,0/255.0,0/255.0,255/255.0)## 0 no value\n",
        "scheme=[c0,c1,c2,c3]\n",
        "colCOR = ListedColormap(scheme)"
      ],
      "execution_count": null,
      "outputs": []
    },
    {
      "cell_type": "markdown",
      "metadata": {
        "id": "qKIMPp3wwR4L"
      },
      "source": [
        "##Initial cutting"
      ]
    },
    {
      "cell_type": "code",
      "metadata": {
        "id": "Gmes5L5xwiso"
      },
      "source": [
        "#Coordinates for CORINE,ECOSG,ESACCI initial cutting around Ireland\n",
        "\n",
        "\n",
        "LATMAX=58\n",
        "LATMIN=49\n",
        "LONMIN=-12\n",
        "LONMAX=-3\n",
        "\n",
        "latmax=58\n",
        "latmin=49\n",
        "lonmin=-12\n",
        "lonmax=-3\n",
        "\n",
        "projection = 'EPSG:3035'\n",
        "PROJECTION=Proj(projection)\n",
        "\n",
        "projx,projy=PROJECTION(longitude=[lonmin,lonmax,lonmax,lonmin],\n",
        "                       latitude=[latmin,latmax,latmin,latmax])\n",
        "xmin=min(projx)\n",
        "xmax=max(projx)\n",
        "ymin=min(projy)\n",
        "ymax=max(projy)"
      ],
      "execution_count": null,
      "outputs": []
    },
    {
      "cell_type": "markdown",
      "metadata": {
        "id": "Kl4YP42a_f9D"
      },
      "source": [
        "Cutting CORINE"
      ]
    },
    {
      "cell_type": "code",
      "metadata": {
        "colab": {
          "base_uri": "https://localhost:8080/"
        },
        "id": "6BROHfYgmoc4",
        "outputId": "9aacfc03-9a99-4858-c7ec-23b22a0d6e9c"
      },
      "source": [
        "\n",
        "\n",
        "src_fn=fncorine\n",
        "out_fn='CORINEcut100m.tif' # 10m cutted filename\n",
        "ds=gdal.Open(src_fn)\n",
        "gdal.Translate(out_fn,ds,projWin = [xmin,ymax,xmax,ymin],projWinSRS=projection) \n",
        "\n",
        "!gdalinfo $out_fn"
      ],
      "execution_count": null,
      "outputs": [
        {
          "output_type": "stream",
          "text": [
            "Driver: GTiff/GeoTIFF\n",
            "Files: CORINEcut100m.tif\n",
            "Size is 8178, 11169\n",
            "Coordinate System is:\n",
            "PROJCS[\"ETRS89 / LAEA Europe\",\n",
            "    GEOGCS[\"ETRS89\",\n",
            "        DATUM[\"European_Terrestrial_Reference_System_1989\",\n",
            "            SPHEROID[\"GRS 1980\",6378137,298.257222101,\n",
            "                AUTHORITY[\"EPSG\",\"7019\"]],\n",
            "            TOWGS84[0,0,0,0,0,0,0],\n",
            "            AUTHORITY[\"EPSG\",\"6258\"]],\n",
            "        PRIMEM[\"Greenwich\",0,\n",
            "            AUTHORITY[\"EPSG\",\"8901\"]],\n",
            "        UNIT[\"degree\",0.0174532925199433,\n",
            "            AUTHORITY[\"EPSG\",\"9122\"]],\n",
            "        AUTHORITY[\"EPSG\",\"4258\"]],\n",
            "    PROJECTION[\"Lambert_Azimuthal_Equal_Area\"],\n",
            "    PARAMETER[\"latitude_of_center\",52],\n",
            "    PARAMETER[\"longitude_of_center\",10],\n",
            "    PARAMETER[\"false_easting\",4321000],\n",
            "    PARAMETER[\"false_northing\",3210000],\n",
            "    UNIT[\"metre\",1,\n",
            "        AUTHORITY[\"EPSG\",\"9001\"]],\n",
            "    AUTHORITY[\"EPSG\",\"3035\"]]\n",
            "Origin = (2738200.000000000000000,4077100.000000000000000)\n",
            "Pixel Size = (100.000000000000000,-100.000000000000000)\n",
            "Metadata:\n",
            "  AREA_OR_POINT=Area\n",
            "  DataType=Thematic\n",
            "Image Structure Metadata:\n",
            "  INTERLEAVE=BAND\n",
            "Corner Coordinates:\n",
            "Upper Left  ( 2738200.000, 4077100.000) ( 16d48'13.58\"W, 57d 4'54.94\"N)\n",
            "Lower Left  ( 2738200.000, 2960200.000) ( 11d24'18.78\"W, 47d40'14.75\"N)\n",
            "Upper Right ( 3556000.000, 4077100.000) (  3d25'51.14\"W, 59d 8'30.77\"N)\n",
            "Lower Right ( 3556000.000, 2960200.000) (  0d32'55.41\"W, 49d15'35.76\"N)\n",
            "Center      ( 3147100.000, 3518650.000) (  7d52'57.67\"W, 53d27'45.23\"N)\n",
            "Band 1 Block=8178x1 Type=Byte, ColorInterp=Gray\n",
            "  NoData Value=-128\n",
            "  Metadata:\n",
            "    RepresentationType=THEMATIC\n",
            "  Image Structure Metadata:\n",
            "    PIXELTYPE=SIGNEDBYTE\n"
          ],
          "name": "stdout"
        }
      ]
    },
    {
      "cell_type": "markdown",
      "metadata": {
        "id": "ApC2B8dW_kqV"
      },
      "source": [
        "Cut and reproject ECOSG"
      ]
    },
    {
      "cell_type": "code",
      "metadata": {
        "id": "Fh62WgMJn2xe"
      },
      "source": [
        "\n",
        "\n",
        "inECO = gdal.Open(fnameSG)\n",
        "cutECO = 'ECO_cut.tif'\n",
        "\n",
        "gdal.Translate(cutECO,inECO,\n",
        "               projWin=[lonmin,latmax,lonmax,latmin], \n",
        "               projWinSRS='EPSG:4326')\n",
        "\n",
        "dsECO=gdal.Open(cutECO)\n",
        "\n",
        "projection = 'EPSG:3035'\n",
        "warpSG = 'ECO_3035.tif'\n",
        "gdal.Warp(warpSG, dsECO, dstSRS=projection,srcSRS='EPSG:4326',xRes=100,yRes=100)\n",
        "\n",
        "outECO = 'ECOcut3035.tif'\n",
        "dscutECO = gdal.Open(warpSG)\n",
        "gdal.Translate(outECO,dscutECO,projWin = [xmin,ymax,xmax,ymin],projWinSRS=projection)\n",
        "\n",
        "!gdalinfo $outECO\n",
        "\n",
        "#pixel size and number is the same, just slightly different bounds"
      ],
      "execution_count": null,
      "outputs": []
    },
    {
      "cell_type": "markdown",
      "metadata": {
        "id": "J6YfVGxu_rap"
      },
      "source": [
        "ESACCI"
      ]
    },
    {
      "cell_type": "code",
      "metadata": {
        "colab": {
          "base_uri": "https://localhost:8080/"
        },
        "id": "37WqtcCZxzJr",
        "outputId": "179a8cb7-da59-45c7-f606-d1a346bafded"
      },
      "source": [
        "\n",
        "\n",
        "#xds = xr.open_dataset(fnESACCI)\n",
        "#xds.rio.write_crs(\"epsg:4326\", inplace=True)\n",
        "ncfile = xr.open_dataset(fnESACCI)\n",
        "#Crop the file\n",
        "\n",
        "LAT=ncfile['lat'][(ncfile['lat']<LATMAX)&(ncfile['lat']>LATMIN)]\n",
        "LON=ncfile['lon'][(ncfile['lon']<LONMAX)&(ncfile['lon']>LONMIN)]\n",
        "var=ncfile['lccs_class'][0,(ncfile['lat']<LATMAX)&(ncfile['lat']>LATMIN),\n",
        "                         (ncfile['lon']<LONMAX)&(ncfile['lon']>LONMIN)]\n",
        "\n",
        "#Check for the CRS\n",
        "print(ncfile['crs'])\n",
        "# add the crs value\n",
        "var.rio.write_crs(\"epsg:4326\", inplace=True)\n",
        "#var=var.rio.set_crs(\"epsg:4326\")\n",
        "\n",
        "inESA  = 'raster.tif'\n",
        "var.rio.to_raster(inESA)"
      ],
      "execution_count": null,
      "outputs": [
        {
          "output_type": "stream",
          "text": [
            "<xarray.DataArray 'crs' ()>\n",
            "array(-2147483647, dtype=int32)\n",
            "Attributes:\n",
            "    wkt:      GEOGCS[\"WGS 84\", \\n  DATUM[\"World Geodetic System 1984\", \\n    ...\n",
            "    i2m:      0.002777777777778,0.0,0.0,-0.002777777777778,-180.0,90.0\n"
          ],
          "name": "stdout"
        }
      ]
    },
    {
      "cell_type": "code",
      "metadata": {
        "id": "d7GjwY8wx6JE"
      },
      "source": [
        "#Cut and project ESACCI\n",
        "\n",
        "inESA  = 'raster.tif'\n",
        "\n",
        "cutESA = 'ESA_cut.tif'\n",
        "\n",
        "gdal.Translate(cutESA,inESA,\n",
        "               projWin=[lonmin,latmax,lonmax,latmin], \n",
        "               projWinSRS='EPSG:4326')\n",
        "\n",
        "dsESA=gdal.Open(cutESA)\n",
        "print(dsESA)\n",
        "projection = 'EPSG:3035'\n",
        "warpESA = 'ESA_3035.tif'\n",
        "gdal.Warp(warpESA, dsESA, dstSRS=projection,srcSRS='EPSG:4326',xRes=100,yRes=100)\n",
        "\n",
        "outESA = 'ESAcut3035.tif'\n",
        "dscutESA = gdal.Open(warpESA)            \n",
        "gdal.Translate(outESA,dscutESA,projWin = [xmin,ymax,xmax,ymin],\n",
        "               projWinSRS=projection)\n",
        "\n",
        "!gdalinfo $outESA\n",
        "\n",
        "#pixel size and number is the same, just slightly different bounds"
      ],
      "execution_count": null,
      "outputs": []
    },
    {
      "cell_type": "markdown",
      "metadata": {
        "id": "OXmRDZbYzi8L"
      },
      "source": [
        "#Open Data"
      ]
    },
    {
      "cell_type": "markdown",
      "metadata": {
        "id": "K5UKmjuVWB10"
      },
      "source": [
        "##misc functions"
      ]
    },
    {
      "cell_type": "code",
      "metadata": {
        "id": "qniuHFxvzpaR"
      },
      "source": [
        "def cover_fraction(filename):\n",
        "    data=open(filename)\n",
        "    covernum=[]\n",
        "    covername=[]\n",
        "    cityfrac=[]\n",
        "    vegfrac=[]\n",
        "    inwaterfrac=[]\n",
        "    seafrac=[]\n",
        "    for i,d in enumerate(data):\n",
        "        if i==0:\n",
        "            fieldnames=d.split(',')\n",
        "            covername.append('no data')\n",
        "            cityfrac.append(0.0)\n",
        "            vegfrac.append(0.0)\n",
        "            inwaterfrac.append(0.0)\n",
        "            seafrac.append(0.0)\n",
        "        else:\n",
        "#           print(d.split(','))\n",
        "            covernum.append(int(d.split(',')[0]))\n",
        "            covername.append(d.split(',')[1])\n",
        "            cityfrac.append(float(d.split(',')[2]))\n",
        "            vegfrac.append(float(d.split(',')[3]))\n",
        "            inwaterfrac.append(float(d.split(',')[4]))\n",
        "            seafrac.append(float(d.split(',')[5]))\n",
        "    return(fieldnames,np.array(covernum),covername,np.array(cityfrac),np.array(vegfrac),\n",
        "           np.array(inwaterfrac),np.array(seafrac))"
      ],
      "execution_count": null,
      "outputs": []
    },
    {
      "cell_type": "code",
      "metadata": {
        "id": "86LJanlSztGK"
      },
      "source": [
        "def read_legend_file(file_legend):\n",
        "\n",
        "  data=open(file_legend)\n",
        "  text=[t for t in data]\n",
        "  covernum=[int(d.split(',')[0]) for d in text]\n",
        "  colors=[tuple((int(d.split(',')[1])/255.0,int(d.split(',')[2])/255.0,int(d.split(',')[3])/255.0,int(d.split(',')[4])/255.0)) for d in text]\n",
        "  covername=[d.split(',')[5] for d in text]\n",
        "  return(data,text,covernum,colors,covername)"
      ],
      "execution_count": null,
      "outputs": []
    },
    {
      "cell_type": "markdown",
      "metadata": {
        "id": "flp04ONj0QbY"
      },
      "source": [
        "##Get lat,lon,array"
      ]
    },
    {
      "cell_type": "code",
      "metadata": {
        "id": "xenL-Aib0Qy1"
      },
      "source": [
        "def get_data(fname,latmax,latmin,lonmax,lonmin):\n",
        "\n",
        "    gdal.UseExceptions()\n",
        "    ds = gdal.Open(fname)\n",
        "    data = ds.ReadAsArray()\n",
        "    gt = ds.GetGeoTransform()\n",
        "    #\n",
        "    #\n",
        "    #\n",
        "    xres = gt[1]\n",
        "    yres = gt[5]\n",
        "    #\n",
        "    xmin = gt[0]\n",
        "    ymin = gt[3]\n",
        "    #\n",
        "    xmax = gt[0] + (xres * ds.RasterXSize)\n",
        "    ymax = gt[3] + (yres * ds.RasterYSize)\n",
        "#    else:\n",
        "#        xmax = gt[0] + (xres * ds.RasterXSize) \n",
        "#        ymax = gt[3] + (yres * ds.RasterYSize) \n",
        "\n",
        "\n",
        "    X=np.arange(xmin+xres,xmax+xres,xres)\n",
        "    Y=np.arange(ymin+yres,ymax+yres,yres)\n",
        "\n",
        "\n",
        "    #Chunck the data to save RAM for plotting\n",
        "    #Ydecreasing\n",
        "    b=np.min(np.where(Y<latmin)[0])\n",
        "    a=np.max(np.where(Y>latmax)[0])\n",
        "\n",
        "    c=np.max(np.where(X<lonmin)[0])\n",
        "    d=np.min(np.where(X>lonmax)[0])\n",
        "\n",
        "#    print(np.max(data))\n",
        "#    print(np.min(data))\n",
        "    #ECOCLIMAP data have no projections so no need to reproject the data\n",
        "    #to be verified for other datasets\n",
        "    LAT=Y[a:b]\n",
        "    LON=X[c:d]\n",
        "    D=data[a:b,c:d]\n",
        "\n",
        "    return (LAT,LON,D)"
      ],
      "execution_count": null,
      "outputs": []
    },
    {
      "cell_type": "markdown",
      "metadata": {
        "id": "PB39YD1q0HqI"
      },
      "source": [
        "##Convert to Primary"
      ]
    },
    {
      "cell_type": "code",
      "metadata": {
        "id": "vb9LJS3xHbpl"
      },
      "source": [
        "\n",
        "#plotcol and numcol correspond to column number of each \n",
        "def toPrimaryDF(array, df,plotcol,numcol,covername):\n",
        "  array1 = np.zeros([len(array),len(array[0])])\n",
        "  for i in range(0, len(array)):\n",
        "    for j in range(0,len(array[0])):\n",
        "      for k in range(0,len(covername)):\n",
        "        if array[i,j]== df.iloc[k,plotcol]:\n",
        "          array1[i,j]=df.iloc[k,numcol] #assigns 1,2 or 3 to a new array based on primary covertype\n",
        "  return array1\n"
      ],
      "execution_count": null,
      "outputs": []
    },
    {
      "cell_type": "markdown",
      "metadata": {
        "id": "tbWftUJW_9Mh"
      },
      "source": [
        "\n",
        "CORINE"
      ]
    },
    {
      "cell_type": "code",
      "metadata": {
        "id": "0Vbk-YYsHbpd"
      },
      "source": [
        "\n",
        "primary = []\n",
        "for i in range(0,11):\n",
        "  primary.append('Urban')\n",
        "for i in range(11,39):\n",
        "  primary.append('Nature')\n",
        "for i in range(39,45):\n",
        "  primary.append('Water')\n",
        "  \n",
        "primarynum = []\n",
        "for i in range(0,11):\n",
        "  primarynum.append('3')\n",
        "for i in range(11,39):\n",
        "  primarynum.append('2')\n",
        "for i in range(39,45):\n",
        "  primarynum.append('1')"
      ],
      "execution_count": null,
      "outputs": []
    },
    {
      "cell_type": "code",
      "metadata": {
        "id": "JOwxiiW3HS2p"
      },
      "source": [
        "columns = ['Covername','Covernumber','Primary','Secondary']\n",
        "index = np.arange(1,46,1)\n",
        "df_COR = pd.DataFrame(index = index, columns = columns)\n",
        "\n",
        "(data,text,covernum,colors,covername_COR) = read_legend_file(file_legend)\n",
        "\n",
        "df_COR['Covername'] = covername_COR\n",
        "df_COR['Plotnum'] = index\n",
        "df_COR['Covernumber'] = covernum\n",
        "df_COR['Primary'] = primary\n",
        "df_COR['PrimaryNum'] = primarynum"
      ],
      "execution_count": null,
      "outputs": []
    },
    {
      "cell_type": "markdown",
      "metadata": {
        "id": "hSwxsgYSAEsG"
      },
      "source": [
        "ECOSG"
      ]
    },
    {
      "cell_type": "code",
      "metadata": {
        "id": "H_Hu5N2DHbpo"
      },
      "source": [
        "\n",
        "primarynum = []\n",
        "for i in range(0,3):\n",
        "  primarynum.append('1')\n",
        "for i in range(3,23):\n",
        "  primarynum.append('2')\n",
        "for i in range(23,33):\n",
        "  primarynum.append('3')\n",
        "\n",
        "primary = []\n",
        "for i in range(0,3):\n",
        "  primary.append('Water')\n",
        "for i in range(3,23):\n",
        "  primary.append('Nature')\n",
        "for i in range(23,33):\n",
        "  primary.append('Urban')"
      ],
      "execution_count": null,
      "outputs": []
    },
    {
      "cell_type": "code",
      "metadata": {
        "id": "0Z158ch2Hbpp"
      },
      "source": [
        "(fieldnames,covernum,covername_ECO,\n",
        " cityfrac,vegfrac,inwaterfrac,seafrac)=cover_fraction(covernamef)\n",
        "\n",
        "covername_ECO = covername_ECO[1:]\n",
        "\n",
        "columns = ['Covername','Covernumber','Primary','Secondary']\n",
        "index = np.arange(1,len(covername_ECO)+1,1)\n",
        "\n",
        "df_ECO = pd.DataFrame(index = index, columns = columns)\n",
        "df_ECO['Covername'] = covername_ECO\n",
        "df_ECO['Plotnum'] = index\n",
        "df_ECO['Covernumber'] = covernum\n",
        "df_ECO['Primary'] = primary\n",
        "df_ECO['PrimaryNum'] = primarynum"
      ],
      "execution_count": null,
      "outputs": []
    },
    {
      "cell_type": "markdown",
      "metadata": {
        "id": "3J9nFGLaAHol"
      },
      "source": [
        "ESA"
      ]
    },
    {
      "cell_type": "code",
      "metadata": {
        "id": "w1Ql7LHpHbpq"
      },
      "source": [
        "\n",
        "primarynum = []\n",
        "primarynum.append('1')\n",
        "for i in range(1,32):\n",
        "  primarynum.append('2')\n",
        "primarynum.append('3')\n",
        "for i in range(33,36):\n",
        "  primarynum.append('2')\n",
        "primarynum.append('1')\n",
        "primarynum.append('2')\n",
        "\n",
        "primary = []\n",
        "primary.append('Water')\n",
        "for i in range(1,32):\n",
        "  primary.append('Nature')\n",
        "primary.append('Urban')\n",
        "for i in range(33,36):\n",
        "  primary.append('Nature')\n",
        "primary.append('Water')\n",
        "primary.append('Nature')"
      ],
      "execution_count": null,
      "outputs": []
    },
    {
      "cell_type": "code",
      "metadata": {
        "id": "HW1Am_XsHbpr"
      },
      "source": [
        "covername_ESA = var.flag_meanings.split()\n",
        "covernum = var.flag_values\n",
        "\n",
        "columns = ['Covername','Covernumber','Primary','Secondary']\n",
        "index = np.arange(0,len(covername_ESA),1)\n",
        "\n",
        "df_ESA = pd.DataFrame(index = index, columns = columns)\n",
        "df_ESA['Covername'] = covername_ESA\n",
        "#df_ESA['Plotnum'] = index\n",
        "df_ESA['Covernumber'] = covernum\n",
        "df_ESA['Primary'] = primary\n",
        "df_ESA['PrimaryNum'] = primarynum\n"
      ],
      "execution_count": null,
      "outputs": []
    },
    {
      "cell_type": "markdown",
      "metadata": {
        "id": "8zm9hFMU0-6Y"
      },
      "source": [
        "##Input Coordinates Here"
      ]
    },
    {
      "cell_type": "code",
      "metadata": {
        "id": "AcSv7ELfFizq"
      },
      "source": [
        "#extent is the distance in degrees either side of centre\n",
        "def get_borders(centre_lat,centre_lon, extent):\n",
        "  latmin = centre_lat - extent\n",
        "  latmax = centre_lat + extent\n",
        "  lonmin = centre_lon - extent\n",
        "  lonmax = centre_lon + extent\n",
        "  return latmin,latmax,lonmin,lonmax\n"
      ],
      "execution_count": null,
      "outputs": []
    },
    {
      "cell_type": "code",
      "metadata": {
        "id": "WRSd2DFo15PQ"
      },
      "source": [
        "#COORDS\n",
        "\n",
        "centre_lat = 53.330\n",
        "centre_lon = -8.223\n",
        "extent =.02\n",
        "\n",
        "\n",
        "latmin = centre_lat - extent\n",
        "latmax = centre_lat + extent\n",
        "lonmin = centre_lon - extent\n",
        "lonmax = centre_lon + extent\n",
        "\n",
        "projection = 'EPSG:3035'\n",
        "PROJECTION=Proj(projection)\n",
        "\n",
        "projx,projy=PROJECTION(longitude=[lonmin,lonmax,lonmax,lonmin],\n",
        "                       latitude=[latmin,latmax,latmin,latmax])\n",
        "xmin=min(projx)\n",
        "xmax=max(projx)\n",
        "ymin=min(projy)\n",
        "ymax=max(projy)\n",
        "\n",
        "fname='CORINEcut100m.tif'\n",
        "LATC,LONC, DCOR = get_data(fname,ymax,ymin,xmax,xmin)\n",
        "#LATC,LONC, DCOR = get_data(fname,ymax,ymin,xmax,xmin)\n",
        "fname = outESA\n",
        "LATESA,LONESA, DESA = get_data(fname,ymax,ymin,xmax,xmin)\n",
        "\n",
        "fname = outECO\n",
        "LATECO,LONECO, DECO = get_data(fname,ymax,ymin,xmax,xmin)\n",
        "\n"
      ],
      "execution_count": null,
      "outputs": []
    },
    {
      "cell_type": "code",
      "metadata": {
        "colab": {
          "base_uri": "https://localhost:8080/"
        },
        "id": "6t3uLAUr4Z11",
        "outputId": "94133948-4f0a-42d6-8d85-a124447646ef"
      },
      "source": [
        "print(np.shape(DCOR))\n",
        "print(np.shape(DESA))\n",
        "print(np.shape(DECO))"
      ],
      "execution_count": null,
      "outputs": [
        {
          "output_type": "stream",
          "text": [
            "(51, 38)\n",
            "(51, 38)\n",
            "(51, 38)\n"
          ],
          "name": "stdout"
        }
      ]
    },
    {
      "cell_type": "markdown",
      "metadata": {
        "id": "ks_RyMTNn7_9"
      },
      "source": [
        "#Primary and Plotting"
      ]
    },
    {
      "cell_type": "code",
      "metadata": {
        "id": "yO7WwFH7TW1x"
      },
      "source": [
        "def findDif(array1,array2):\n",
        "  if np.shape(array1) != np.shape(array2):\n",
        "    return 'Error: incorrect dimensions'\n",
        "  else:\n",
        "    dif = array1 - array2\n",
        "\n",
        "  for i in range(0,len(dif)):\n",
        "    for j in range(0,len(dif[0])):\n",
        "      if dif[i,j] == 0:\n",
        "        dif[i,j] = array1[i,j]\n",
        "      else:\n",
        "        dif[i,j] = 0\n",
        "  \n",
        "  return dif\n"
      ],
      "execution_count": null,
      "outputs": []
    },
    {
      "cell_type": "code",
      "metadata": {
        "id": "tJu90EtRQ5QF"
      },
      "source": [
        "Covertype = PrimeCover[0:3]"
      ],
      "execution_count": null,
      "outputs": []
    },
    {
      "cell_type": "code",
      "metadata": {
        "id": "pqw2WfDLIr63"
      },
      "source": [
        "#DFCOR = toPrimaryDF(DCOR,df_COR,4,5,covername_COR)"
      ],
      "execution_count": null,
      "outputs": []
    },
    {
      "cell_type": "code",
      "metadata": {
        "id": "R4zehKaqHbpl"
      },
      "source": [
        "DFCOR = toPrimaryDF(DCOR,df_COR,4,5,covername_COR)\n",
        "DFECO=toPrimaryDF(DECO,df_ECO,4,5,covername_ECO)\n",
        "DFESA = toPrimaryDF(DESA,df_ESA,1,4, covername_ESA)"
      ],
      "execution_count": null,
      "outputs": []
    },
    {
      "cell_type": "code",
      "metadata": {
        "id": "fjLAhCD2PSUB",
        "colab": {
          "base_uri": "https://localhost:8080/"
        },
        "outputId": "815a654d-bad4-4636-87b7-74b5d493be31"
      },
      "source": [
        "PROJECTION(3015000,3546000,inverse=True)"
      ],
      "execution_count": null,
      "outputs": [
        {
          "output_type": "execute_result",
          "data": {
            "text/plain": [
              "(-9.919045895990559, 53.39187026171829)"
            ]
          },
          "metadata": {
            "tags": []
          },
          "execution_count": 28
        }
      ]
    },
    {
      "cell_type": "code",
      "metadata": {
        "colab": {
          "base_uri": "https://localhost:8080/",
          "height": 1000
        },
        "id": "xNh_Nwwr-RVq",
        "outputId": "d12e8795-2d37-44b7-d646-021b742f5a45"
      },
      "source": [
        "fig = plt.figure(figsize=(30,90))\n",
        "gs = fig.add_gridspec(3, 1)\n",
        "ax0 = fig.add_subplot(gs[0,0])\n",
        "#ax0.set_title('gs[0, :]')\n",
        "ax1 = fig.add_subplot(gs[1,0])\n",
        "#f3_ax2.set_title('gs[1, :-1]')\n",
        "ax2 = fig.add_subplot(gs[2,0])\n",
        "#f3_ax3.set_title('gs[1:, -1]')\n",
        "\n",
        "\n",
        "#fig, axs = plt.subplots(1, 1,figsize=(30, 30))\n",
        "#ax1=axs\n",
        "\n",
        "LONg, LATg = np.meshgrid(LONC, LATC)\n",
        "c=ax0.pcolormesh(LONC,LATC,DFCOR,cmap=colCOR,vmin=0,vmax=len(Covertype))\n",
        "\n",
        "ax0.set_xlim(xmin,xmax)\n",
        "ax0.set_ylim(ymin,ymax)\n",
        "\n",
        "\n",
        "LONg, LATg = np.meshgrid(LONECO, LATECO)\n",
        "c=ax1.pcolormesh(LONECO,LATECO,DFECO,cmap=colCOR,vmin=0,vmax=len(Covertype))\n",
        "\n",
        "ax1.set_xlim(xmin,xmax)\n",
        "ax1.set_ylim(ymin,ymax)\n",
        "\n",
        "\n",
        "LONg, LATg = np.meshgrid(LONESA, LATESA)\n",
        "c=ax2.pcolormesh(LONESA,LATESA,DFESA,cmap=colCOR,vmin=0,vmax=len(Covertype))\n",
        "\n",
        "ax2.set_xlim(xmin,xmax)\n",
        "ax2.set_ylim(ymin,ymax)\n",
        "\n",
        "ax0.axis('off')\n",
        "ax1.axis('off')\n",
        "ax2.axis('off')\n",
        "ax0.set_title('CORINE', fontsize= 80)\n",
        "ax1.set_title('ECOSG', fontsize= 80)\n",
        "ax2.set_title('ESA-CCI', fontsize= 80)\n",
        "\n",
        "\n",
        "#cbar_ax = fig.add_subplot(grid[:, 1])\n",
        "#cb=plt.colorbar(c, ax=cbar_ax, ticks=np.arange(0.5,len(PrimeCover[0:3])),\n",
        "#                extendfrac='auto', spacing='proportional')   \n",
        "#cb.set_ticklabels(PrimeCover[0:3])\n",
        "#cb.ax.tick_params(labelsize=15)\n",
        "#cbar_ax.tick_params(labelsize=15)\n",
        "#cbar_ax.axis('off')\n",
        "fig.savefig('InisOirr3plot.png',format='png',quality=95,bbox_inches='tight')"
      ],
      "execution_count": null,
      "outputs": [
        {
          "output_type": "display_data",
          "data": {
            "image/png": "[encoded data removed]",
            "text/plain": [
              "<Figure size 2160x6480 with 3 Axes>"
            ]
          },
          "metadata": {
            "tags": [],
            "needs_background": "light"
          }
        }
      ]
    },
    {
      "cell_type": "markdown",
      "metadata": {
        "id": "2DxnzAa3bUZr"
      },
      "source": [
        "#Barplot and Analysis"
      ]
    },
    {
      "cell_type": "code",
      "metadata": {
        "id": "UJNIKOwK13uM",
        "colab": {
          "base_uri": "https://localhost:8080/",
          "height": 1000
        },
        "outputId": "ec44db03-6861-4d3f-891d-dd8e63f79f0f"
      },
      "source": [
        "DifECOESA = findDif(DFESA,DFECO)\n",
        "DifCORESA = findDif(DFCOR,DFESA)\n",
        "DifECOCOR = findDif(DFCOR,DFECO)\n",
        "\n",
        "fig=plt.figure(figsize=(30,30))\n",
        "grid = plt.GridSpec(2, 3, hspace=0.08, wspace=0.2)\n",
        "\n",
        "#fig, axs = plt.subplots(1, 1,figsize=(30, 30))\n",
        "#ax1=axs\n",
        "\n",
        "ax0=fig.add_subplot(grid[0, 0],adjustable='box',\n",
        "                    aspect=(xmin-xmax)/((ymin-ymax)))\n",
        "LONg, LATg = np.meshgrid(LONC, LATC)\n",
        "c=ax0.pcolormesh(LONC,LATC,DFCOR,cmap=colCOR,vmin=0,vmax=len(Covertype))\n",
        "\n",
        "ax0.set_xlim(xmin,xmax)\n",
        "ax0.set_ylim(ymin,ymax)\n",
        "\n",
        "\n",
        "ax1=fig.add_subplot(grid[0, 1],adjustable='box',\n",
        "                    aspect=(xmin-xmax)/((ymin-ymax)))\n",
        "LONg, LATg = np.meshgrid(LONECO, LATECO)\n",
        "c=ax1.pcolormesh(LONECO,LATECO,DFECO,cmap=colCOR,vmin=0,vmax=len(Covertype))\n",
        "\n",
        "ax1.set_xlim(xmin,xmax)\n",
        "ax1.set_ylim(ymin,ymax)\n",
        "\n",
        "ax2=fig.add_subplot(grid[0, 2],adjustable='box',\n",
        "                    aspect=(xmin-xmax)/((ymin-ymax)))\n",
        "LONg, LATg = np.meshgrid(LONESA, LATESA)\n",
        "c=ax2.pcolormesh(LONESA,LATESA,DFESA,cmap=colCOR,vmin=0,vmax=len(Covertype))\n",
        "\n",
        "ax2.set_xlim(xmin,xmax)\n",
        "ax2.set_ylim(ymin,ymax)\n",
        "\n",
        "#ax6=fig.add_subplot(grid[1, 1 ],adjustable='box',\n",
        " #                   aspect=(xmin-xmax)/((ymin-ymax)))\n",
        "\n",
        "#ax6.imshow(DS.transpose(1,2,0))\n",
        "\n",
        "ax3=fig.add_subplot(grid[1,0 ],adjustable='box',\n",
        "                    aspect=(xmin-xmax)/((ymin-ymax)))\n",
        "LONg, LATg = np.meshgrid(LONC, LATC)\n",
        "c=ax3.pcolormesh(LONECO,LATECO,DifECOESA,cmap=colCOR,vmin=0,vmax=len(PrimeCover))\n",
        "\n",
        "ax5=fig.add_subplot(grid[1,2 ],adjustable='box',\n",
        "                    aspect=(xmin-xmax)/((ymin-ymax)))\n",
        "LONg, LATg = np.meshgrid(LONC, LATC)\n",
        "c=ax5.pcolormesh(LONC,LATC,DifECOCOR,cmap=colCOR,vmin=0,vmax=len(PrimeCover))\n",
        "\n",
        "ax4=fig.add_subplot(grid[1, 1 ],adjustable='box',\n",
        "                    aspect=(xmin-xmax)/((ymin-ymax)))\n",
        "LONg, LATg = np.meshgrid(LONC, LATC)\n",
        "c=ax4.pcolormesh(LONC,LATC,DifCORESA,cmap=colCOR,vmin=0,vmax=len(PrimeCover))\n",
        "\n",
        "ax3.set_xlim(xmin,xmax)\n",
        "ax3.set_ylim(ymin,ymax)\n",
        "\n",
        "ax4.set_xlim(xmin,xmax)\n",
        "ax4.set_ylim(ymin,ymax)\n",
        "\n",
        "ax5.set_xlim(xmin,xmax)\n",
        "ax5.set_ylim(ymin,ymax)\n",
        "\n",
        "\n",
        "\n",
        "\n",
        "\n",
        "ax0.set_title('CORINE', fontsize= 20)\n",
        "ax1.set_title('ECOSG', fontsize= 20)\n",
        "ax2.set_title('ESA-CCI', fontsize= 20)\n",
        "ax3.set_title('ECO v ESA', fontsize= 20)\n",
        "ax5.set_title('ECO v COR', fontsize= 20)\n",
        "ax4.set_title('COR v ESA', fontsize= 20)\n",
        "\n",
        "#cbar_ax = fig.add_subplot(grid[:, 1])\n",
        "#cb=plt.colorbar(c, ax=cbar_ax, ticks=np.arange(0.5,len(PrimeCover[0:3])),\n",
        "#                extendfrac='auto', spacing='proportional')   \n",
        "#cb.set_ticklabels(PrimeCover[0:3])\n",
        "#cb.ax.tick_params(labelsize=15)\n",
        "#cbar_ax.tick_params(labelsize=15)\n",
        "#cbar_ax.axis('off')\n",
        "fig.savefig('Roundstone.png',format='png',quality=95,bbox_inches='tight')"
      ],
      "execution_count": null,
      "outputs": [
        {
          "output_type": "display_data",
          "data": {
            "image/png": "[encoded data removed]",
            "text/plain": [
              "<Figure size 2160x2160 with 6 Axes>"
            ]
          },
          "metadata": {
            "tags": [],
            "needs_background": "light"
          }
        }
      ]
    },
    {
      "cell_type": "code",
      "metadata": {
        "id": "Q8ltPEMkJlDN"
      },
      "source": [
        "def Bar(array):\n",
        "  \n",
        "  water =  0\n",
        "  nature = 0\n",
        "  urban = 0 \n",
        "  for i in range(0, len(array)):\n",
        "    for j in range(0,len(array[0])):\n",
        "\n",
        "      if array[i,j] == 1:\n",
        "        water +=1\n",
        "      if array[i,j] ==2:\n",
        "        nature +=1  \n",
        "      if array[i,j] ==3:\n",
        "        urban +=1\n",
        "  a = np.array([water,nature,urban])/np.size(array)*100\n",
        "  return a\n"
      ],
      "execution_count": null,
      "outputs": []
    },
    {
      "cell_type": "code",
      "metadata": {
        "id": "fDkzIObAEgiN"
      },
      "source": [
        "BarCORINE = Bar(DFCOR)\n",
        "BarECO = Bar(DFECO)\n",
        "BarESA = Bar(DFESA)\n"
      ],
      "execution_count": null,
      "outputs": []
    },
    {
      "cell_type": "code",
      "metadata": {
        "id": "i2q3xs3_bYBT",
        "colab": {
          "base_uri": "https://localhost:8080/",
          "height": 297
        },
        "outputId": "24529283-43fb-4caf-953b-a685c741f3d7"
      },
      "source": [
        "\n",
        "\n",
        "labels = Covertype\n",
        "fig, ax = plt.subplots()\n",
        "ax.set_ylabel('Percent coverage')\n",
        "ax.set_title('Distribution of primary covertypes for _____')\n",
        "\n",
        "\n",
        "\n",
        "data = [BarCORINE,BarECO,BarESA]\n",
        "x = np.arange(len(labels))  # the label locations\n",
        "width = 0.2  # the width of the bars\n",
        "\n",
        "\n",
        "\n",
        "rects1 = ax.bar(x - width, data[0], width, label='CORINE')\n",
        "rects2 = ax.bar(x         , data[1], width, label='ECOSG')\n",
        "rects2 = ax.bar(x + width, data[2], width, label='ESA-CCI')\n",
        "\n",
        "# Add some text for labels, title and custom x-axis tick labels, etc.\n",
        "ax.set_ylabel('Percent coverage')\n",
        "ax.set_title('Distribution of primary covertypes for CORINE, ECOCLIMAP and ESA-CCI')\n",
        "ax.set_xticks(x)\n",
        "ax.set_xticklabels(labels)\n",
        "ax.legend(labels=['CORINE', 'ECOSG','ESACCI'])\n",
        "\n",
        "fig.tight_layout()\n",
        "\n",
        "plt.show()\n",
        "fig.savefig('Bar1.png',format='png',quality=95,bbox_inches='tight')"
      ],
      "execution_count": null,
      "outputs": [
        {
          "output_type": "display_data",
          "data": {
            "image/png": "[encoded data removed]",
            "text/plain": [
              "<Figure size 432x288 with 1 Axes>"
            ]
          },
          "metadata": {
            "tags": [],
            "needs_background": "light"
          }
        }
      ]
    },
    {
      "cell_type": "code",
      "metadata": {
        "id": "LGPAr_W0h-dJ"
      },
      "source": [
        "#comboplot\n",
        "def diffBar(array1,array2,labels):\n",
        "  if np.shape(array1) != np.shape(array2):\n",
        "    return print('Error, dimensions of arrays are inconsistent')\n",
        "  b = len(labels)\n",
        "  a = np.zeros([b,b])\n",
        "  for i in range(0, len(array1)):\n",
        "    for j in range(0,len(array1[0])):\n",
        "      for k in range(0,b):\n",
        "        for f in range(0,b):\n",
        "          if array1[i,j] == k+1:\n",
        "            if array2[i,j]==f+1:\n",
        "              a[k,f] += 1\n",
        "  return a/np.size(array1)*100"
      ],
      "execution_count": null,
      "outputs": []
    },
    {
      "cell_type": "code",
      "metadata": {
        "id": "vd0gjkD4ylvD",
        "colab": {
          "base_uri": "https://localhost:8080/"
        },
        "outputId": "16ebd0aa-4ca0-421a-df80-f7b19b2cfd81"
      },
      "source": [
        "Dif_ECOCOR=diffBar(DFECO,DFCOR, Covertype)\n",
        "Dif_ECOCOR"
      ],
      "execution_count": null,
      "outputs": [
        {
          "output_type": "execute_result",
          "data": {
            "text/plain": [
              "array([[ 0.        ,  0.        ,  0.        ],\n",
              "       [ 0.        , 69.45304438,  4.12796698],\n",
              "       [ 0.        , 10.78431373, 15.63467492]])"
            ]
          },
          "metadata": {
            "tags": []
          },
          "execution_count": 35
        }
      ]
    },
    {
      "cell_type": "code",
      "metadata": {
        "id": "VulAIASPDDN0",
        "colab": {
          "base_uri": "https://localhost:8080/"
        },
        "outputId": "f1d75cbb-071d-4f57-f959-278fafa95a97"
      },
      "source": [
        "bar12"
      ],
      "execution_count": null,
      "outputs": [
        {
          "output_type": "execute_result",
          "data": {
            "text/plain": [
              "[0.0, 69.45304437564499, 4.12796697626419]"
            ]
          },
          "metadata": {
            "tags": []
          },
          "execution_count": 52
        }
      ]
    },
    {
      "cell_type": "code",
      "metadata": {
        "id": "a8YapEPjA_Dv",
        "colab": {
          "base_uri": "https://localhost:8080/",
          "height": 297
        },
        "outputId": "fe70cfdd-d650-4484-8a59-e727b09d95c5"
      },
      "source": [
        "#barplot where bars show what covertypes a covertype in one map is made up of \n",
        "\n",
        "labels = Covertype\n",
        "fig, ax = plt.subplots()\n",
        "\n",
        "data =Dif_ECOCOR\n",
        "x = np.arange(len(labels))  # the label locations\n",
        "width = 0.3  # the width of the bars\n",
        "\n",
        "bar12 = np.add(data[0,:], data[1,:]).tolist()\n",
        "bar123 = np.add(bar12, data[2,:]).tolist()\n",
        "#bar1234 = np.add(bar123, data[3,:]).tolist()\n",
        "\n",
        "\n",
        "\n",
        "ax.bar(x , data[0,:], width, label=labels[0])\n",
        "ax.bar(x , data[1,:], width, bottom=data[0,:], label=labels[1])\n",
        "ax.bar(x , data[2,:], width, bottom=bar12, label=labels[2])\n",
        "#ax.bar(x , data[3,:], width, bottom=bar123,label=labels[3])\n",
        "\n",
        "# Add some text for labels, title and custom x-axis tick labels, etc.\n",
        "ax.set_ylabel('Percent coverage')\n",
        "ax.set_title(\"What land in ECOCLIMAP correponds to in CORINE map.\")\n",
        "#txt = \"The height of each bar represents the amount of land a given covertype represents in ECOCLIMAP, each bar is broken into what that land is classified as in the CORINE map\"\n",
        "#fig.text(.5, .05, txt, ha='center')\n",
        "ax.set_xticks(x)\n",
        "ax.set_xticklabels(labels)\n",
        "ax.legend()\n",
        "\n",
        "fig.tight_layout()\n",
        "\n",
        "plt.show()\n",
        "fig.savefig('Bar2.png',format='png',quality=95,bbox_inches='tight')"
      ],
      "execution_count": null,
      "outputs": [
        {
          "output_type": "display_data",
          "data": {
            "image/png": "[encoded data removed]",
            "text/plain": [
              "<Figure size 432x288 with 1 Axes>"
            ]
          },
          "metadata": {
            "tags": [],
            "needs_background": "light"
          }
        }
      ]
    },
    {
      "cell_type": "markdown",
      "metadata": {
        "id": "ZdmR3ZT_2BGq"
      },
      "source": [
        "#Plotting"
      ]
    },
    {
      "cell_type": "code",
      "metadata": {
        "id": "4nY-UX58WPVF",
        "colab": {
          "base_uri": "https://localhost:8080/",
          "height": 523
        },
        "outputId": "d34f5bf3-0532-4454-d1a1-fc300e21fbcd"
      },
      "source": [
        "Dif = findDif(DFCOR,DFECO)\n",
        "\n",
        "fig=plt.figure(figsize=(30,60))\n",
        "grid = plt.GridSpec(2,3, hspace=0.1, wspace=0.25)\n",
        "\n",
        "ax0=fig.add_subplot(grid[0, 0],adjustable='box',\n",
        "                    aspect=(xmin-xmax)/((ymin-ymax)))\n",
        "LONg, LATg = np.meshgrid(LONC, LATC)\n",
        "c=ax0.pcolormesh(LONC,LATC,DFCOR,cmap=colCOR,vmin=0,vmax=len(PrimeCover))\n",
        "\n",
        "ax0.set_xlim(xmin,xmax)\n",
        "ax0.set_ylim(ymin,ymax)\n",
        "ax0.axis('off')\n",
        "\n",
        "ax1=fig.add_subplot(grid[0, 1],adjustable='box',\n",
        "                    aspect=(xmin-xmax)/((ymin-ymax)))\n",
        "LONg, LATg = np.meshgrid(LONECO, LATECO)\n",
        "c=ax1.pcolormesh(LONECO,LATECO,DFECO,cmap=colCOR,vmin=0,vmax=len(PrimeCover))\n",
        "\n",
        "ax1.set_xlim(xmin,xmax)\n",
        "ax1.set_ylim(ymin,ymax)\n",
        "ax1.axis('off')\n",
        "\n",
        "ax2=fig.add_subplot(grid[0, 2],adjustable='box',\n",
        "                    aspect=(xmin-xmax)/((ymin-ymax)))\n",
        "LONg, LATg = np.meshgrid(LONC, LATC)\n",
        "c=ax2.pcolormesh(LONC,LATC,Dif,cmap=colCOR,vmin=0,vmax=len(PrimeCover))\n",
        "\n",
        "ax2.set_xlim(xmin,xmax)\n",
        "ax2.set_ylim(ymin,ymax)\n",
        "ax2.axis('off')\n",
        "\n",
        "ax0.set_title('CORINE', fontsize= 60)\n",
        "ax1.set_title('ECOSG', fontsize= 60)\n",
        "ax2.set_title('Dif', fontsize= 60)\n",
        "\n",
        "#cbar_ax = fig.add_subplot(grid[:, 1])\n",
        "#cb=plt.colorbar(c, ax=cbar_ax, ticks=np.arange(0.5,len(PrimeCover)),\n",
        "#                extendfrac='auto', spacing='proportional')   \n",
        "#cb.set_ticklabels(PrimeCover)\n",
        "#cb.ax.tick_params(labelsize=15)\n",
        "#cbar_ax.tick_params(labelsize=15)\n",
        "#cbar_ax.axis('off')\n",
        "fig.savefig('DifPlot.png',format='png',quality=95,bbox_inches='tight')"
      ],
      "execution_count": null,
      "outputs": [
        {
          "output_type": "display_data",
          "data": {
            "image/png": "[encoded data removed]",
            "text/plain": [
              "<Figure size 2160x4320 with 3 Axes>"
            ]
          },
          "metadata": {
            "tags": [],
            "needs_background": "light"
          }
        }
      ]
    },
    {
      "cell_type": "code",
      "metadata": {
        "id": "VcdfDEz9Jktx",
        "colab": {
          "base_uri": "https://localhost:8080/",
          "height": 523
        },
        "outputId": "fd0aad94-882d-42bb-aafe-cf4e913ad3ab"
      },
      "source": [
        "Dif = findDif(DFESA,DFECO)\n",
        "\n",
        "fig=plt.figure(figsize=(30,60))\n",
        "grid = plt.GridSpec(2,3, hspace=0.1, wspace=0.25)\n",
        "\n",
        "ax0=fig.add_subplot(grid[0, 0],adjustable='box',\n",
        "                    aspect=(xmin-xmax)/((ymin-ymax)))\n",
        "LONg, LATg = np.meshgrid(LONESA, LATESA)\n",
        "c=ax0.pcolormesh(LONESA,LATESA,DFESA,cmap=colCOR,vmin=0,vmax=len(PrimeCover))\n",
        "\n",
        "ax0.set_xlim(xmin,xmax)\n",
        "ax0.set_ylim(ymin,ymax)\n",
        "ax0.axis('off')\n",
        "\n",
        "ax1=fig.add_subplot(grid[0, 1],adjustable='box',\n",
        "                    aspect=(xmin-xmax)/((ymin-ymax)))\n",
        "LONg, LATg = np.meshgrid(LONECO, LATECO)\n",
        "c=ax1.pcolormesh(LONECO,LATECO,DFECO,cmap=colCOR,vmin=0,vmax=len(PrimeCover))\n",
        "\n",
        "ax1.set_xlim(xmin,xmax)\n",
        "ax1.set_ylim(ymin,ymax)\n",
        "ax1.axis('off')\n",
        "\n",
        "ax2=fig.add_subplot(grid[0, 2],adjustable='box',\n",
        "                    aspect=(xmin-xmax)/((ymin-ymax)))\n",
        "LONg, LATg = np.meshgrid(LONC, LATC)\n",
        "c=ax2.pcolormesh(LONC,LATC,Dif,cmap=colCOR,vmin=0,vmax=len(PrimeCover))\n",
        "\n",
        "ax2.set_xlim(xmin,xmax)\n",
        "ax2.set_ylim(ymin,ymax)\n",
        "ax2.axis('off')\n",
        "\n",
        "ax0.set_title('ESA', fontsize= 60)\n",
        "ax1.set_title('ECOSG', fontsize= 60)\n",
        "ax2.set_title('Dif', fontsize= 60)\n",
        "\n",
        "#cbar_ax = fig.add_subplot(grid[:, 1])\n",
        "#cb=plt.colorbar(c, ax=cbar_ax, ticks=np.arange(0.5,len(PrimeCover)),\n",
        "#                extendfrac='auto', spacing='proportional')   \n",
        "#cb.set_ticklabels(PrimeCover)\n",
        "#cb.ax.tick_params(labelsize=15)\n",
        "#cbar_ax.tick_params(labelsize=15)\n",
        "#cbar_ax.axis('off')\n",
        "fig.savefig('DifPlot.png',format='png',quality=95,bbox_inches='tight')"
      ],
      "execution_count": null,
      "outputs": [
        {
          "output_type": "display_data",
          "data": {
            "image/png": "[encoded data removed]",
            "text/plain": [
              "<Figure size 2160x4320 with 3 Axes>"
            ]
          },
          "metadata": {
            "tags": [],
            "needs_background": "light"
          }
        }
      ]
    }
  ]
}